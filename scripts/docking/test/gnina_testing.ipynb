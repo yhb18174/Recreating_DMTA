{
 "cells": [
  {
   "cell_type": "code",
   "execution_count": 4,
   "id": "18f20fb5",
   "metadata": {},
   "outputs": [],
   "source": [
    "import pandas as pd\n",
    "import sys\n",
    "\n",
    "sys.path.insert(0, '/users/yhb18174/Recreating_DMTA/scripts/docking/')\n",
    "from docking_fns import Run_GNINA\n",
    "\n",
    "df = pd.read_csv('/users/yhb18174/Recreating_DMTA/datasets/ChEMBL/training_data/dock/ChEMBL_docking_df.csv', index_col=False)\n",
    "\n",
    "docking_dir = '/users/yhb18174/Recreating_DMTA/docking/new_ChEMBL/'\n",
    "smi_ls = list(df['SMILES'].iloc[:3])\n",
    "molid_ls = list(df['ID'].iloc[:3])\n",
    "rec_path=\"/users/yhb18174/Recreating_DMTA/scripts/docking/receptors/4bw1_5_conserved_HOH.pdbqt\""
   ]
  },
  {
   "cell_type": "code",
   "execution_count": 5,
   "id": "13c82673",
   "metadata": {},
   "outputs": [
    {
     "name": "stdout",
     "output_type": "stream",
     "text": [
      "Random Seed:\n",
      "1364692869\n"
     ]
    }
   ],
   "source": [
    "x = Run_GNINA(docking_dir=docking_dir, molid_ls=molid_ls, smi_ls=smi_ls, receptor_path=rec_path)"
   ]
  },
  {
   "cell_type": "code",
   "execution_count": 6,
   "id": "f82acbd3",
   "metadata": {},
   "outputs": [
    {
     "name": "stdout",
     "output_type": "stream",
     "text": [
      "/users/yhb18174/Recreating_DMTA/docking/new_ChEMBL/CHEMBL3979343/all_confs_CHEMBL3979343_pH74.sdf\n",
      "/users/yhb18174/Recreating_DMTA/docking/new_ChEMBL/CHEMBL4089152/all_confs_CHEMBL4089152_pH74.sdf\n",
      "/users/yhb18174/Recreating_DMTA/docking/new_ChEMBL/CHEMBL4084046/all_confs_CHEMBL4084046_pH74.sdf\n"
     ]
    },
    {
     "data": {
      "text/plain": [
       "['/users/yhb18174/Recreating_DMTA/docking/new_ChEMBL/CHEMBL3979343/all_confs_CHEMBL3979343_pH74.sdf',\n",
       " '/users/yhb18174/Recreating_DMTA/docking/new_ChEMBL/CHEMBL4089152/all_confs_CHEMBL4089152_pH74.sdf',\n",
       " '/users/yhb18174/Recreating_DMTA/docking/new_ChEMBL/CHEMBL4084046/all_confs_CHEMBL4084046_pH74.sdf']"
      ]
     },
     "execution_count": 6,
     "metadata": {},
     "output_type": "execute_result"
    }
   ],
   "source": [
    "x.ProcessMols()"
   ]
  },
  {
   "cell_type": "code",
   "execution_count": null,
   "id": "0175d75c",
   "metadata": {},
   "outputs": [],
   "source": [
    "x"
   ]
  }
 ],
 "metadata": {
  "kernelspec": {
   "display_name": "PP",
   "language": "python",
   "name": "python3"
  },
  "language_info": {
   "codemirror_mode": {
    "name": "ipython",
    "version": 3
   },
   "file_extension": ".py",
   "mimetype": "text/x-python",
   "name": "python",
   "nbconvert_exporter": "python",
   "pygments_lexer": "ipython3",
   "version": "3.9.7"
  }
 },
 "nbformat": 4,
 "nbformat_minor": 5
}
